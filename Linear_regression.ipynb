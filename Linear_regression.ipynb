{
 "cells": [
  {
   "cell_type": "code",
   "execution_count": 72,
   "id": "8617fa4a",
   "metadata": {},
   "outputs": [],
   "source": [
    "import numpy as np \n",
    "import pandas as pd \n",
    "import matplotlib.pyplot as plt\n",
    "import math, copy\n"
   ]
  },
  {
   "cell_type": "code",
   "execution_count": 2,
   "id": "d638a9ce",
   "metadata": {},
   "outputs": [],
   "source": [
    "x_train = np.array([1.0, 2.0])\n",
    "y_train= np.array([300.0, 500.0])\n"
   ]
  },
  {
   "cell_type": "code",
   "execution_count": 12,
   "id": "f9bbb306",
   "metadata": {},
   "outputs": [],
   "source": [
    "def prediction(x, w, b): \n",
    "    m = x.shape[0]\n",
    "    f_wb = np.zeros(m)\n",
    "    for i in range(m):\n",
    "        f_wb[i] = w * x[i] + b\n",
    "\n",
    "    return f_wb\n"
   ]
  },
  {
   "cell_type": "code",
   "execution_count": 13,
   "id": "980d1fe0",
   "metadata": {},
   "outputs": [],
   "source": [
    "result = prediction(x_train, 100,100)\n"
   ]
  },
  {
   "cell_type": "code",
   "execution_count": 14,
   "id": "48ca4734",
   "metadata": {},
   "outputs": [
    {
     "data": {
      "text/plain": [
       "(2,)"
      ]
     },
     "execution_count": 14,
     "metadata": {},
     "output_type": "execute_result"
    }
   ],
   "source": [
    "result.shape"
   ]
  },
  {
   "cell_type": "code",
   "execution_count": 56,
   "id": "762f0fb0",
   "metadata": {},
   "outputs": [],
   "source": [
    "def compute_cost(x, y, w, b):\n",
    "   \n",
    "    m = x.shape[0] \n",
    "    cost = 0\n",
    "    \n",
    "    for i in range(m):\n",
    "        f_wb = w * x[i] + b\n",
    "        cost = cost + (f_wb - y[i])**2\n",
    "    total_cost = 1 / (2 * m) * cost\n",
    "\n",
    "    return total_cost"
   ]
  },
  {
   "cell_type": "code",
   "execution_count": 62,
   "id": "5485b13d",
   "metadata": {},
   "outputs": [],
   "source": [
    "# Load our data set\n",
    "x_train = np.array([1.0, 2.0])   #features\n",
    "y_train = np.array([300.0, 500.0])   #target value\n",
    "\n"
   ]
  },
  {
   "cell_type": "code",
   "execution_count": 63,
   "id": "936c64a9",
   "metadata": {},
   "outputs": [
    {
     "data": {
      "text/plain": [
       "12500.0"
      ]
     },
     "execution_count": 63,
     "metadata": {},
     "output_type": "execute_result"
    }
   ],
   "source": [
    "compute_cost(x_train, y_train, 100, 100)"
   ]
  },
  {
   "cell_type": "markdown",
   "id": "5ba6e155",
   "metadata": {},
   "source": [
    "### gradient descent algorith to reduce the cost "
   ]
  },
  {
   "cell_type": "code",
   "execution_count": 107,
   "id": "7745cc07",
   "metadata": {},
   "outputs": [],
   "source": [
    "def compute_gradient(x, y, w, b): \n",
    "    \n",
    "    \n",
    "    # Number of training examples\n",
    "    m = x.shape[0]    \n",
    "    dj_dw = 0\n",
    "    dj_db = 0\n",
    "    \n",
    "    for i in range(m):  \n",
    "        f_wb = w * x[i] + b \n",
    "        dj_dw_i = (f_wb - y[i]) * x[i] \n",
    "        dj_db_i = f_wb - y[i] \n",
    "        dj_db += dj_db_i\n",
    "        dj_dw += dj_dw_i \n",
    "    dj_dw = dj_dw / m \n",
    "    dj_db = dj_db / m \n",
    "        \n",
    "    return dj_dw, dj_db"
   ]
  },
  {
   "cell_type": "code",
   "execution_count": 80,
   "id": "fff8865d",
   "metadata": {},
   "outputs": [],
   "source": [
    "def gradient_descent(w_in, b_in, alpha, iterations, x, y):\n",
    "    w = w_in\n",
    "    b = b_in\n",
    "    J_history = []\n",
    "    p_history = []\n",
    "    for i in range(iterations): \n",
    "        dj_dw, dj_db = compute_gradient(x, y, w,b)\n",
    "        w = w - alpha * dj_dw\n",
    "        b = b - alpha * dj_db \n",
    "        \n",
    "        if i<100000: \n",
    "            J_history.append(compute_cost(x_train, y_train, w, b))\n",
    "            p_history.append([w,b])\n",
    "        if i% math.ceil(iterations/10) == 0:\n",
    "            print(f\"Iteration {i:4}: Cost {J_history[-1]:0.2e} \",\n",
    "                  f\"dj_dw: {dj_dw: 0.3e}, dj_db: {dj_db: 0.3e}  \",\n",
    "                  f\"w: {w: 0.3e}, b:{b: 0.5e}\")\n",
    "    \n",
    "    return w, b, J_history, p_history"
   ]
  },
  {
   "cell_type": "markdown",
   "id": "25ccf99b",
   "metadata": {},
   "source": [
    "lets see gradient descent algoriths in action. "
   ]
  },
  {
   "cell_type": "code",
   "execution_count": 97,
   "id": "150204b0",
   "metadata": {},
   "outputs": [
    {
     "name": "stdout",
     "output_type": "stream",
     "text": [
      "Iteration    0: Cost 8.44e+04  dj_dw: -6.500e+02, dj_db: -4.000e+02   w:  6.500e-01, b: 4.00000e-01\n",
      "Iteration 1000: Cost 1.01e+02  dj_dw: -2.168e+01, dj_db: -1.180e+01   w:  1.841e+02, b: 1.12111e+02\n",
      "Iteration 2000: Cost 1.11e+01  dj_dw: -1.343e+00, dj_db:  6.585e-01   w:  1.907e+02, b: 1.14640e+02\n",
      "Iteration 3000: Cost 9.49e+00  dj_dw: -6.406e-01, dj_db:  9.877e-01   w:  1.915e+02, b: 1.13719e+02\n",
      "Iteration 4000: Cost 8.20e+00  dj_dw: -5.759e-01, dj_db:  9.303e-01   w:  1.921e+02, b: 1.12758e+02\n",
      "Iteration 5000: Cost 7.09e+00  dj_dw: -5.348e-01, dj_db:  8.652e-01   w:  1.927e+02, b: 1.11860e+02\n",
      "Iteration 6000: Cost 6.13e+00  dj_dw: -4.971e-01, dj_db:  8.044e-01   w:  1.932e+02, b: 1.11026e+02\n",
      "Iteration 7000: Cost 5.30e+00  dj_dw: -4.622e-01, dj_db:  7.478e-01   w:  1.937e+02, b: 1.10250e+02\n",
      "Iteration 8000: Cost 4.58e+00  dj_dw: -4.296e-01, dj_db:  6.952e-01   w:  1.941e+02, b: 1.09529e+02\n",
      "Iteration 9000: Cost 3.96e+00  dj_dw: -3.994e-01, dj_db:  6.463e-01   w:  1.945e+02, b: 1.08859e+02\n",
      "(w,b) found by gradient descent: (194.9099,108.2360)\n"
     ]
    }
   ],
   "source": [
    "w_final, b_final, cost_history, params_history = gradient_descent(0, 0, 0.001, 10000, x_train, y_train)\n",
    "print(f\"(w,b) found by gradient descent: ({w_final:8.4f},{b_final:8.4f})\")"
   ]
  },
  {
   "cell_type": "code",
   "execution_count": 98,
   "id": "ff6337a5",
   "metadata": {},
   "outputs": [
    {
     "name": "stdout",
     "output_type": "stream",
     "text": [
      "10000\n"
     ]
    }
   ],
   "source": [
    "print(len(cost_history))"
   ]
  },
  {
   "cell_type": "code",
   "execution_count": 101,
   "id": "b44d392e",
   "metadata": {},
   "outputs": [
    {
     "data": {
      "text/plain": [
       "Text(0, 0.5, 'cost')"
      ]
     },
     "execution_count": 101,
     "metadata": {},
     "output_type": "execute_result"
    },
    {
     "data": {
      "image/png": "[encoded data removed]",
      "text/plain": [
       "<Figure size 640x480 with 1 Axes>"
      ]
     },
     "metadata": {},
     "output_type": "display_data"
    }
   ],
   "source": [
    "plt.plot(cost_history[:1000])\n",
    "plt.xlabel(\"no of iterations\")\n",
    "plt.ylabel(\"cost\")"
   ]
  },
  {
   "cell_type": "code",
   "execution_count": 102,
   "id": "cfba94b7",
   "metadata": {},
   "outputs": [
    {
     "name": "stdout",
     "output_type": "stream",
     "text": [
      "108.23596716021231\n"
     ]
    }
   ],
   "source": [
    "print(b_final)"
   ]
  },
  {
   "cell_type": "code",
   "execution_count": 103,
   "id": "476ff485",
   "metadata": {},
   "outputs": [
    {
     "data": {
      "text/plain": [
       "[76.74744445298771, 47.17391078784691]"
      ]
     },
     "execution_count": 103,
     "metadata": {},
     "output_type": "execute_result"
    }
   ],
   "source": [
    "params_history[150]"
   ]
  },
  {
   "cell_type": "code",
   "execution_count": 104,
   "id": "de19c6d1",
   "metadata": {},
   "outputs": [
    {
     "data": {
      "text/plain": [
       "[194.9098923647605, 108.23596716021231]"
      ]
     },
     "execution_count": 104,
     "metadata": {},
     "output_type": "execute_result"
    }
   ],
   "source": [
    "params_history[-1]"
   ]
  },
  {
   "cell_type": "code",
   "execution_count": null,
   "id": "65904f61",
   "metadata": {},
   "outputs": [],
   "source": []
  }
 ],
 "metadata": {
  "kernelspec": {
   "display_name": "Python 3 (ipykernel)",
   "language": "python",
   "name": "python3"
  },
  "language_info": {
   "codemirror_mode": {
    "name": "ipython",
    "version": 3
   },
   "file_extension": ".py",
   "mimetype": "text/x-python",
   "name": "python",
   "nbconvert_exporter": "python",
   "pygments_lexer": "ipython3",
   "version": "3.11.5"
  }
 },
 "nbformat": 4,
 "nbformat_minor": 5
}
